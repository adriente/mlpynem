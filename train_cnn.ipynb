{
 "cells": [
  {
   "cell_type": "markdown",
   "metadata": {},
   "source": [
    "# Load the data and set the neural network parameters\n",
    "\n",
    "/!\\ Parameters can be changed in this cell, please read the comments. /!\\\n",
    "\n",
    "\n",
    "\n",
    "**The PINEM parameters follow this ordering : g, rt, fwhm, omega, offset**\n"
   ]
  },
  {
   "cell_type": "markdown",
   "metadata": {},
   "source": [
    "## Setting the training parameters"
   ]
  },
  {
   "cell_type": "code",
   "execution_count": 4,
   "metadata": {},
   "outputs": [],
   "source": [
    "# ------------- Relevant paths ---------------------------------\n",
    "# Paths to the training dataset, the test dataset and the logger\n",
    "filename = './datasets/pinem_amp100_bkgd0.1_nort_seed42.npz'\n",
    "test_filename = './datasets/test_model_pinem_amp100_bkgd0.1_nort_seed42.npz'\n",
    "logger_path = './logs/cnn_3layers_32_v1.json'\n",
    "\n",
    "# Normalization method : 'normalize' or 'scale' or 'both'. None should be avoided\n",
    "normalization = 'normalize'\n",
    "\n",
    "# ------------- Network architecture ----------------------------\n",
    "# Number of parameters to be learned by the network\n",
    "n_params = 2\n",
    "# Loss function of the network : 'normal' of 'poisson\n",
    "mode = 'normal'\n",
    "# Network layers : list of integers\n",
    "layers = [32, 32, 32]\n",
    "# Kernel sizes : list of integers /!\\ must have the same length as layers /!\\\n",
    "kernel_sizes = [3, 3, 3]\n",
    "# Dropout rates : list of floats /!\\ must have the same length as layers /!\\\n",
    "dropout_rates = [0.5, 0.5, 0.5]"
   ]
  },
  {
   "cell_type": "markdown",
   "metadata": {},
   "source": [
    "## Initialisation of the data and network"
   ]
  },
  {
   "cell_type": "code",
   "execution_count": 5,
   "metadata": {},
   "outputs": [],
   "source": [
    "import mlpynem.models as m\n",
    "import mlpynem.dataset as d\n",
    "import numpy as np\n",
    "import mlpynem.logger as l\n",
    "\n",
    "# dummy parameters for the loading of the dataset (They don't matter, it just has to be a list of 5 elements)\n",
    "_ = [None,None,None,None,None]\n",
    "\n",
    "dataset = d.DatasetPinem(*_,load = filename)\n",
    "pipe = m.DataPreprocessor(dataset.noisy_spectres, dataset.xs[:,:-(n_params + 1)],normalization=normalization, convolution=True)\n",
    "\n",
    "log = l.ModelInfo(logger_path)\n",
    "log.add_iteration(filename,test_filename)\n",
    "log.save_norm(normalization)\n",
    "\n",
    "(X_train, y_train), (X_val, y_val), (X_test, y_test) = pipe.preprocess()\n",
    "\n",
    "cnn = m.CNNModel(dataset.p.x.shape[0],n_params, mode = mode,filters=layers,kernel_size=kernel_sizes,dropouts=dropout_rates)\n",
    "\n",
    "log.save_model(cnn)\n"
   ]
  },
  {
   "cell_type": "markdown",
   "metadata": {},
   "source": [
    "## Train the network and plot the loss\n",
    "\n",
    "/!\\ It might take a while. If you run the code on a laptop it is time to plug it. /!\\"
   ]
  },
  {
   "cell_type": "code",
   "execution_count": 7,
   "metadata": {},
   "outputs": [
    {
     "name": "stdout",
     "output_type": "stream",
     "text": [
      "Epoch 1/5\n",
      "1434/1434 [==============================] - 25s 18ms/step - loss: 0.0235 - mse: 0.0235 - mae: 0.0894 - val_loss: 0.0854 - val_mse: 0.0854 - val_mae: 0.1829\n",
      "Epoch 2/5\n",
      "1434/1434 [==============================] - 25s 18ms/step - loss: 0.0228 - mse: 0.0228 - mae: 0.0877 - val_loss: 0.0707 - val_mse: 0.0707 - val_mae: 0.1708\n",
      "Epoch 3/5\n",
      "1434/1434 [==============================] - 25s 17ms/step - loss: 0.0221 - mse: 0.0221 - mae: 0.0863 - val_loss: 0.0714 - val_mse: 0.0714 - val_mae: 0.1682\n",
      "Epoch 4/5\n",
      "1434/1434 [==============================] - 25s 17ms/step - loss: 0.0214 - mse: 0.0214 - mae: 0.0853 - val_loss: 0.0736 - val_mse: 0.0736 - val_mae: 0.1709\n",
      "Epoch 5/5\n",
      "1434/1434 [==============================] - 25s 18ms/step - loss: 0.0207 - mse: 0.0207 - mae: 0.0841 - val_loss: 0.0753 - val_mse: 0.0753 - val_mae: 0.1678\n"
     ]
    },
    {
     "data": {
      "image/png": "[encoded data removed]",
      "text/plain": [
       "<Figure size 640x480 with 1 Axes>"
      ]
     },
     "metadata": {},
     "output_type": "display_data"
    }
   ],
   "source": [
    "cnn.train(X_train, y_train, X_val, y_val, epochs = 300, batch_size = 32)\n",
    "cnn.plot_history()"
   ]
  },
  {
   "cell_type": "markdown",
   "metadata": {},
   "source": [
    "## Test the network"
   ]
  },
  {
   "cell_type": "code",
   "execution_count": 11,
   "metadata": {},
   "outputs": [],
   "source": [
    "tst = np.load(test_filename)\n",
    "test_pipe = m.DataPreprocessor(1,2)\n",
    "X_test = test_pipe.normalize_data(tst['data'])[:,:,np.newaxis]\n",
    "res = cnn.predict(X_test)\n",
    "\n",
    "err = res - tst['truth']\n",
    "mean_err = np.mean(err, axis = 0)\n",
    "std_err = np.std(err, axis = 0)\n",
    "err_dict= {'mean_g_err' : mean_err[0], 'std_g_err' : std_err[0], 'mean_rt_err' : mean_err[1], 'std_rt_err' : std_err[1]}"
   ]
  },
  {
   "cell_type": "markdown",
   "metadata": {},
   "source": [
    "## Save the results"
   ]
  },
  {
   "cell_type": "code",
   "execution_count": 8,
   "metadata": {},
   "outputs": [],
   "source": [
    "log.save_test_results(err_dict)\n",
    "log.save()"
   ]
  }
 ],
 "metadata": {
  "kernelspec": {
   "display_name": "keras",
   "language": "python",
   "name": "python3"
  },
  "language_info": {
   "codemirror_mode": {
    "name": "ipython",
    "version": 3
   },
   "file_extension": ".py",
   "mimetype": "text/x-python",
   "name": "python",
   "nbconvert_exporter": "python",
   "pygments_lexer": "ipython3",
   "version": "3.9.18"
  }
 },
 "nbformat": 4,
 "nbformat_minor": 2
}
